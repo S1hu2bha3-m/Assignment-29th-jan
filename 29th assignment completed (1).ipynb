{
 "cells": [
  {
   "cell_type": "markdown",
   "id": "dfaac4a3-d6da-4268-9150-22b0c7d6a7a5",
   "metadata": {},
   "source": [
    "1. Who developed Pyhton Programming Language?\n",
    "Ans. Python programming language was developed by Guido van Rossum. He started working on Python in December 1989 and released the first version in February 1991."
   ]
  },
  {
   "cell_type": "markdown",
   "id": "cd6c08d9-0420-4d53-8f72-f5ae014e7412",
   "metadata": {},
   "source": [
    "2. Which type of Programming does Python support?\n",
    "Ans. Python supports multiple programming languages such as :\n",
    "   (a). Object-Oriented Programming\n",
    "   (b). Procedural Programming\n",
    "   (c). Functional Programming"
   ]
  },
  {
   "cell_type": "markdown",
   "id": "6e066c95-5e84-48df-8a02-7b71c1623dcf",
   "metadata": {},
   "source": [
    "3. Is Python case sensitive when dealing with identifiers?\n",
    "Ans. Yes, Python is case sensitive when dealing with identifiers such as variable names, function names, and class names."
   ]
  },
  {
   "cell_type": "markdown",
   "id": "3d7127ca-a2a1-4254-b2a5-35b6e3fa4d54",
   "metadata": {},
   "source": [
    "4. What is the correct extension of the Python file?\n",
    "Ans. The correct file extension for a Python source file is \".py\"."
   ]
  },
  {
   "cell_type": "markdown",
   "id": "c9181799-69f4-437f-a413-331ce6ee8e58",
   "metadata": {},
   "source": [
    " "
   ]
  },
  {
   "cell_type": "markdown",
   "id": "7d7734ed-22a3-4987-b29a-61024df33736",
   "metadata": {},
   "source": [
    "5. Is Python code compiled or interpreted?\n",
    "Ans. Python code is interpreted, not compiled."
   ]
  },
  {
   "cell_type": "markdown",
   "id": "ccb99646-0485-4235-81b2-39577387234f",
   "metadata": {},
   "source": [
    "6. Name a few blocks of code used to define in Python Language?\n",
    "Ans. The following are a few blocks of code used to define statements, conditions, and loops in Python:\n",
    "The following are a few blocks of code used to define statements, conditions, and loops in Python:\n",
    "if statement: used to specify a block of code to be executed if a certain condition is true.\n",
    "if condition:\n",
    "    # statements to be executed if condition is true\n",
    "for loop: used to repeat a block of code for a specified number of times.\n",
    "for variable in sequence:\n",
    "    # statements to be executed for each iteration\n",
    "while loop: used to repeat a block of code as long as a certain condition is true.\n",
    "while condition:\n",
    "    # statements to be executed as long as condition is true\n",
    "def statement: used to define a function.\n",
    "def function_name(arguments):\n",
    "    # statements to be executed in the function"
   ]
  },
  {
   "cell_type": "markdown",
   "id": "af8ae92b-8ba9-4dc6-b8ec-ad910c09cbdd",
   "metadata": {},
   "source": [
    "7. State a character used to give single-line comments in Python?\n",
    "Ans. In Python, the '#' symbol is used to indicate a single-line comment. Anything following the '#' symbol on a line is ignored by the Python interpreter and is considered a comment."
   ]
  },
  {
   "cell_type": "markdown",
   "id": "5b39e1a8-09cb-4392-8460-2aa352f5f00e",
   "metadata": {},
   "source": [
    "8. Mention functions which can help us to find the version of python that we are currently working on?\n",
    "Ans. In Python, there are a few built-in functions that you can use to find the version of Python that you are currently working with:\n",
    "(a). 'sys.version'\n",
    "(b). 'sys.version_info'\n",
    "(c). 'platform.python_version()'"
   ]
  },
  {
   "cell_type": "markdown",
   "id": "cf1be280-8766-4abf-92ed-cf4a3804f0a8",
   "metadata": {},
   "source": [
    "9. Python support the creation off anonymous functions at runtime, using a construct called\n",
    "Ans. Python support the creation off anonymous functions at runtime, using a construct is called\n",
    "\"lambda\" function."
   ]
  },
  {
   "cell_type": "markdown",
   "id": "6b585eed-2ed6-4bfd-a3fc-b77386d81f56",
   "metadata": {},
   "source": [
    "10. What does pip stand for python?\n",
    "Ans. 'pip' stands for \"Pip Installs Packages\". It is a package management system used to install and manage packages (i.e., collections of modules) written in Python. With pip, you can easily install, upgrade, and remove Python packages."
   ]
  },
  {
   "cell_type": "markdown",
   "id": "9486e0eb-e787-4a84-bb47-2dfe92c0797c",
   "metadata": {},
   "source": [
    " "
   ]
  },
  {
   "cell_type": "markdown",
   "id": "5adf7366-27e7-4afe-8cce-917f51b7b967",
   "metadata": {},
   "source": [
    "11. Mention a few built-in functions in python?\n",
    "Ans. Python has a large number of built-in functions that you can use to perform a wide variety of tasks.\n",
    "print(): prints the output to the console.\n",
    "len(): returns the length of a string, list, tuple, etc.\n",
    "str(): converts an object to a string.\n",
    "int(): converts a string or a float to an integer.\n",
    "float(): converts a string or an integer to a floating-point"
   ]
  },
  {
   "cell_type": "markdown",
   "id": "8553b6c9-d712-467d-b230-d87a0352f454",
   "metadata": {},
   "source": [
    " "
   ]
  },
  {
   "cell_type": "markdown",
   "id": "f7811998-67c7-4672-8bc5-9d8e78b51f3f",
   "metadata": {},
   "source": [
    "12. What is the maximum possible length of an identifier in Python?\n",
    "Ans. In Python, the maximum possible length of an identifier is 79 characters."
   ]
  },
  {
   "cell_type": "markdown",
   "id": "0451e7fb-d06e-4571-a43f-0ce232dcf9fb",
   "metadata": {},
   "source": [
    "13. What are the benefits of using Python?\n",
    "Ans. There are many benefits to using Python as a programming language, including:\n",
    "   (a). Easy to learn and use.\n",
    "   (b). Large community and libraries.\n",
    "   (c). High-level language.\n",
    "   (d). Wide range of applications.\n",
    "   (e). Good performance."
   ]
  },
  {
   "cell_type": "markdown",
   "id": "c378fc2c-450f-4ec5-9339-9f541e354bd1",
   "metadata": {},
   "source": [
    " "
   ]
  },
  {
   "cell_type": "markdown",
   "id": "ea3099f6-9d98-476d-a33a-62f4a2a1aa5c",
   "metadata": {},
   "source": [
    "14. How is memory managed in Python?\n",
    "Ans. Python uses a memory management system known as reference counting to manage memory. In reference counting, every object in memory has a counter that keeps track of the number of references to that object. When an object's reference count reaches zero, the memory used by that object is automatically freed and made available for other objects.\n",
    "Python also uses a garbage collector that periodically scans the memory to find objects that are no longer in use and frees their memory."
   ]
  },
  {
   "cell_type": "markdown",
   "id": "6b0f6423-7aa0-43cb-9f1e-d1fe7eb85b99",
   "metadata": {},
   "source": [
    " "
   ]
  },
  {
   "cell_type": "markdown",
   "id": "4a86ee65-bd90-4959-a302-2188d667b4f3",
   "metadata": {},
   "source": [
    "15. How to install Python on windows and set path variables?\n",
    "Ans. Here are the steps to install Python on Windows and set the path variables:\n",
    "\n",
    "*Download the Python installer from the official Python website (https://www.python.org/downloads/).\n",
    "*Run the installer and follow the on-screen instructions to install Python. By default, the installer will add Python to the system PATH, so you can use the Python interpreter from any directory in the Command Prompt.\n",
    "\n",
    "*To verify that Python is installed correctly, open the Command Prompt and type \"python\" (without the quotes). If Python is installed correctly, you should see the Python REPL (Read-Eval-Print Loop).\n",
    "\n",
    "To set the path variables, follow these steps:\n",
    "*Right-click on the Windows Start menu and select System.\n",
    "*Click on Advanced system settings.\n",
    "*Click on the Environment Variables button.\n",
    "*Under System Variables, scroll down and find the PATH variable.\n",
    "*Click on the Edit button to edit the PATH variable.\n",
    "*Add the path to the Python installation directory to the PATH variable (for example, C:\\Python37).\n",
    "*Click OK to close all windows."
   ]
  },
  {
   "cell_type": "markdown",
   "id": "fdfc8265-b6c0-4460-8675-4861dd2c6234",
   "metadata": {},
   "source": [
    "16. Is indentation required in Python?\n",
    "Ans. Yes, indentation is required in Python and it is used to define blocks of code."
   ]
  }
 ],
 "metadata": {
  "kernelspec": {
   "display_name": "Python 3 (ipykernel)",
   "language": "python",
   "name": "python3"
  },
  "language_info": {
   "codemirror_mode": {
    "name": "ipython",
    "version": 3
   },
   "file_extension": ".py",
   "mimetype": "text/x-python",
   "name": "python",
   "nbconvert_exporter": "python",
   "pygments_lexer": "ipython3",
   "version": "3.10.8"
  }
 },
 "nbformat": 4,
 "nbformat_minor": 5
}
